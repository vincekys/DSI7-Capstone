{
 "cells": [
  {
   "cell_type": "markdown",
   "metadata": {},
   "source": [
    "# Scrape Reviews from TripAdvisor"
   ]
  },
  {
   "cell_type": "code",
   "execution_count": null,
   "metadata": {},
   "outputs": [],
   "source": [
    "from bs4 import BeautifulSoup\n",
    "import pandas as pd\n",
    "from selenium import webdriver\n",
    "from selenium.webdriver.support.ui import WebDriverWait\n",
    "from time import sleep, time"
   ]
  },
  {
   "cell_type": "markdown",
   "metadata": {},
   "source": [
    "### Create empty lists to store scrapped data"
   ]
  },
  {
   "cell_type": "code",
   "execution_count": null,
   "metadata": {},
   "outputs": [],
   "source": [
    "review_body = []\n",
    "review_title = []\n",
    "trip_type = [] \n",
    "review_date = []\n",
    "stay_date = []\n",
    "hotel_reply = []"
   ]
  },
  {
   "cell_type": "markdown",
   "metadata": {},
   "source": [
    "### Create url variable which is the first page of interest"
   ]
  },
  {
   "cell_type": "code",
   "execution_count": null,
   "metadata": {},
   "outputs": [],
   "source": [
    "url = 'https://www.tripadvisor.com.sg/Hotel_Review-g294265-d300850-Reviews-or10000-Mandarin_Orchard_Singapore-Singapore.html'"
   ]
  },
  {
   "cell_type": "markdown",
   "metadata": {},
   "source": [
    "### Create function which does the scraping. It takes the url given and the maximum number of pages to scrape as arguments and populates scrapped data into the empty lists created earlier"
   ]
  },
  {
   "cell_type": "code",
   "execution_count": null,
   "metadata": {},
   "outputs": [],
   "source": [
    "def scraper_tripadvisor(url, max_pages):\n",
    "\n",
    "    start_time = time()\n",
    "\n",
    "\n",
    "    page = 1\n",
    "\n",
    "\n",
    "    # OPEN BROWSER\n",
    "    driver = webdriver.Chrome()\n",
    "\n",
    "\n",
    "    # OPEN UP FIRST PAGE\n",
    "    driver.get(url)\n",
    "\n",
    "\n",
    "    sleep(5)\n",
    "\n",
    "\n",
    "    # ADJUST THE MAX NUMBER OF PAGES TO SCRAPE\n",
    "    while page <= max_pages:\n",
    "\n",
    "\n",
    "\n",
    "        # CLICK ON READ MORE\n",
    "        read_more = driver.find_elements_by_xpath(\"//div/div[@class='hotels-review-list-parts-ExpandableReview__ctaLine--1lhYi']\")\n",
    "\n",
    "        for more in read_more:\n",
    "            try:\n",
    "                more.click()\n",
    "                driver.implicitly_wait(5)\n",
    "            except:\n",
    "                pass\n",
    "\n",
    "\n",
    "\n",
    "        # GET INNER HTML\n",
    "        soup = BeautifulSoup(driver.page_source, \"lxml\")\n",
    "\n",
    "\n",
    "        # CONTAINER IN PAGE\n",
    "        containers = soup.findAll('div', {'class': 'hotels-review-list-parts-SingleReview__reviewContainer--d54T4'})\n",
    "\n",
    "\n",
    "\n",
    "        # LOOPING THROUGH EACH OF THE CONTAINERS (each represents ONE user's review)\n",
    "        for container in containers:\n",
    "\n",
    "\n",
    "\n",
    "            # STAY DATE (if empty append None, else append get_text())\n",
    "            stay_date_item = container.find('div', {'class': 'hotels-review-list-parts-EventDate__event_date--CRXs4'})\n",
    "            if stay_date_item != None:\n",
    "                stay_date.append(stay_date_item.get_text())\n",
    "            else:\n",
    "                stay_date.append(None)\n",
    "\n",
    "\n",
    "\n",
    "            # TRIP TYPE (if empty append None, else append get_text())\n",
    "            trip_type_item = container.find('div', {'class': 'hotels-review-list-parts-TripType__trip_type--2cnp7'})\n",
    "            if trip_type_item != None:\n",
    "                trip_type.append(trip_type_item.get_text())\n",
    "            else:\n",
    "                trip_type.append(None)\n",
    "\n",
    "\n",
    "\n",
    "            # REVIEW TITLE (if empty append None, else append get_text())\n",
    "            review_title_item = container.find('a', {'class': 'hotels-review-list-parts-ReviewTitle__reviewTitleText--3QrTy'})\n",
    "            if review_title_item != None:\n",
    "                review_title.append(review_title_item.get_text())\n",
    "            else:\n",
    "                review_title.append(None)\n",
    "\n",
    "\n",
    "\n",
    "            # REVIEW BODY (if empty append None, else append get_text())\n",
    "            review_body_item = container.find('q', {'class': 'hotels-review-list-parts-ExpandableReview__reviewText--3oMkH'})\n",
    "            if review_body_item != None:\n",
    "                review_body.append(review_body_item.get_text())\n",
    "            else:\n",
    "                review_body.append(None)\n",
    "\n",
    "\n",
    "\n",
    "            # REVIEW DATE (if empty append None, else append get_text())\n",
    "            review_date_item = container.find('div', {'class': 'social-member-event-MemberEventOnObjectBlock__event_type--3njyv'})\n",
    "            if review_date_item != None:\n",
    "                review_date.append(review_date_item.get_text())\n",
    "            else:\n",
    "                review_date.append(None)\n",
    "\n",
    "\n",
    "\n",
    "            # HOTEL RESPONSE (yes/no)\n",
    "            hotel_reply_item = container.find('span', {'class': 'hotels-review-list-parts-OwnerResponse__reviewText--28Wat'})\n",
    "            if hotel_reply_item != None:\n",
    "                hotel_reply.append(hotel_reply_item.find('span').text)\n",
    "            else:\n",
    "                hotel_reply.append(None)\n",
    "\n",
    "\n",
    "\n",
    "\n",
    "        # increase page by 1\n",
    "        page = page + 1\n",
    "\n",
    "\n",
    "        # toggle to next page\n",
    "        next_page_button = driver.find_elements_by_xpath(\"//a[@class='ui_button nav next primary ']\")[0]\n",
    "        next_page_button.click()\n",
    "        driver.implicitly_wait(5)\n",
    "\n",
    "\n",
    "\n",
    "    driver.quit()\n",
    "\n",
    "    total_elapsed_time = time() - start_time\n",
    "    print('Total Run Time:', total_elapsed_time/60, 'min')"
   ]
  },
  {
   "cell_type": "markdown",
   "metadata": {},
   "source": [
    "### Check scrapped data"
   ]
  },
  {
   "cell_type": "code",
   "execution_count": null,
   "metadata": {},
   "outputs": [],
   "source": [
    "print('rows of stay_date',len(stay_date))\n",
    "print('rows of trip_type',len(trip_type))\n",
    "print('rows of review_date',len(review_date))\n",
    "print('rows of review_body',len(review_body))\n",
    "print('rows of review_title',len(review_title))\n",
    "print('rows of hotel_reply',len(hotel_reply))"
   ]
  },
  {
   "cell_type": "markdown",
   "metadata": {},
   "source": [
    "### Put into Dataframe"
   ]
  },
  {
   "cell_type": "code",
   "execution_count": null,
   "metadata": {},
   "outputs": [],
   "source": [
    "zippedList =  list(zip(stay_date, trip_type, review_date, review_body, review_title, hotel_reply))\n",
    "\n",
    "reviews = pd.DataFrame(zippedList, columns = ['date_of_stay' , 'trip_type', 'date_of_review',\\\n",
    "                                              'review', 'review_title', 'hotel_response'])\n",
    "print(reviews.shape)\n",
    "reviews.head()"
   ]
  },
  {
   "cell_type": "markdown",
   "metadata": {},
   "source": [
    "### Save to csv (initial scrape)"
   ]
  },
  {
   "cell_type": "code",
   "execution_count": null,
   "metadata": {},
   "outputs": [],
   "source": [
    "reviews.to_csv('./Data/MOH_TA_REVIEWS.csv', index=False)"
   ]
  },
  {
   "cell_type": "markdown",
   "metadata": {},
   "source": [
    "### Append to csv (subsequent scrape)"
   ]
  },
  {
   "cell_type": "code",
   "execution_count": null,
   "metadata": {},
   "outputs": [],
   "source": [
    "reviews.to_csv('./Data/MOH_TA_REVIEWS.csv', index=False, mode='a', header=False)"
   ]
  }
 ],
 "metadata": {
  "kernelspec": {
   "display_name": "Python 3",
   "language": "python",
   "name": "python3"
  },
  "language_info": {
   "codemirror_mode": {
    "name": "ipython",
    "version": 3
   },
   "file_extension": ".py",
   "mimetype": "text/x-python",
   "name": "python",
   "nbconvert_exporter": "python",
   "pygments_lexer": "ipython3",
   "version": "3.6.8"
  }
 },
 "nbformat": 4,
 "nbformat_minor": 2
}
