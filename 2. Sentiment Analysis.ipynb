{
 "cells": [
  {
   "cell_type": "markdown",
   "metadata": {},
   "source": [
    "# SENTIMENT ANALYSIS"
   ]
  },
  {
   "cell_type": "code",
   "execution_count": 1,
   "metadata": {},
   "outputs": [],
   "source": [
    "import pandas as pd\n",
    "from textblob import TextBlob\n",
    "import seaborn as sns\n",
    "import matplotlib.pyplot as plt\n",
    "import pickle\n",
    "\n",
    "sns.set_style('ticks')\n",
    "plt.style.use('seaborn')"
   ]
  },
  {
   "cell_type": "code",
   "execution_count": 2,
   "metadata": {},
   "outputs": [
    {
     "data": {
      "text/html": [
       "<div>\n",
       "<style scoped>\n",
       "    .dataframe tbody tr th:only-of-type {\n",
       "        vertical-align: middle;\n",
       "    }\n",
       "\n",
       "    .dataframe tbody tr th {\n",
       "        vertical-align: top;\n",
       "    }\n",
       "\n",
       "    .dataframe thead th {\n",
       "        text-align: right;\n",
       "    }\n",
       "</style>\n",
       "<table border=\"1\" class=\"dataframe\">\n",
       "  <thead>\n",
       "    <tr style=\"text-align: right;\">\n",
       "      <th></th>\n",
       "      <th>date_of_stay</th>\n",
       "      <th>hotel_response</th>\n",
       "      <th>month_of_stay</th>\n",
       "      <th>nationality</th>\n",
       "      <th>review</th>\n",
       "      <th>source</th>\n",
       "      <th>trip_type</th>\n",
       "      <th>year_of_stay</th>\n",
       "      <th>review_clean</th>\n",
       "    </tr>\n",
       "  </thead>\n",
       "  <tbody>\n",
       "    <tr>\n",
       "      <th>0</th>\n",
       "      <td>2010-01</td>\n",
       "      <td>NaN</td>\n",
       "      <td>January</td>\n",
       "      <td>Malaysia</td>\n",
       "      <td>Brunei” overall  am satisfied as the hotel is ...</td>\n",
       "      <td>Agoda</td>\n",
       "      <td>Couple</td>\n",
       "      <td>2010</td>\n",
       "      <td>brunei overall be satisfy a the hotel be very ...</td>\n",
       "    </tr>\n",
       "    <tr>\n",
       "      <th>1</th>\n",
       "      <td>2010-01</td>\n",
       "      <td>NaN</td>\n",
       "      <td>January</td>\n",
       "      <td>Indonesia</td>\n",
       "      <td>great week-end at Mandarin Meritus” It's been ...</td>\n",
       "      <td>Agoda</td>\n",
       "      <td>Group</td>\n",
       "      <td>2010</td>\n",
       "      <td>great week end at mandarin meritus it s be alm...</td>\n",
       "    </tr>\n",
       "    <tr>\n",
       "      <th>2</th>\n",
       "      <td>2010-01</td>\n",
       "      <td>NaN</td>\n",
       "      <td>January</td>\n",
       "      <td>Malaysia</td>\n",
       "      <td>Favourite Hotel !” Mandarin Meritus has always...</td>\n",
       "      <td>Agoda</td>\n",
       "      <td>Business traveler</td>\n",
       "      <td>2010</td>\n",
       "      <td>favourite hotel mandarin meritus have always b...</td>\n",
       "    </tr>\n",
       "    <tr>\n",
       "      <th>3</th>\n",
       "      <td>2010-01</td>\n",
       "      <td>NaN</td>\n",
       "      <td>January</td>\n",
       "      <td>Malaysia</td>\n",
       "      <td>nice” very nice hotel. nice food and great roo...</td>\n",
       "      <td>Agoda</td>\n",
       "      <td>Couple</td>\n",
       "      <td>2010</td>\n",
       "      <td>nice very nice hotel nice food and great room ...</td>\n",
       "    </tr>\n",
       "    <tr>\n",
       "      <th>4</th>\n",
       "      <td>2010-01</td>\n",
       "      <td>NaN</td>\n",
       "      <td>January</td>\n",
       "      <td>Indonesia</td>\n",
       "      <td>meritus orchard” Very nice hotel,location real...</td>\n",
       "      <td>Agoda</td>\n",
       "      <td>Couple</td>\n",
       "      <td>2010</td>\n",
       "      <td>meritus orchard very nice hotel location reall...</td>\n",
       "    </tr>\n",
       "  </tbody>\n",
       "</table>\n",
       "</div>"
      ],
      "text/plain": [
       "  date_of_stay  hotel_response month_of_stay nationality  \\\n",
       "0      2010-01             NaN       January    Malaysia   \n",
       "1      2010-01             NaN       January   Indonesia   \n",
       "2      2010-01             NaN       January    Malaysia   \n",
       "3      2010-01             NaN       January    Malaysia   \n",
       "4      2010-01             NaN       January   Indonesia   \n",
       "\n",
       "                                              review source  \\\n",
       "0  Brunei” overall  am satisfied as the hotel is ...  Agoda   \n",
       "1  great week-end at Mandarin Meritus” It's been ...  Agoda   \n",
       "2  Favourite Hotel !” Mandarin Meritus has always...  Agoda   \n",
       "3  nice” very nice hotel. nice food and great roo...  Agoda   \n",
       "4  meritus orchard” Very nice hotel,location real...  Agoda   \n",
       "\n",
       "           trip_type  year_of_stay  \\\n",
       "0             Couple          2010   \n",
       "1              Group          2010   \n",
       "2  Business traveler          2010   \n",
       "3             Couple          2010   \n",
       "4             Couple          2010   \n",
       "\n",
       "                                        review_clean  \n",
       "0  brunei overall be satisfy a the hotel be very ...  \n",
       "1  great week end at mandarin meritus it s be alm...  \n",
       "2  favourite hotel mandarin meritus have always b...  \n",
       "3  nice very nice hotel nice food and great room ...  \n",
       "4  meritus orchard very nice hotel location reall...  "
      ]
     },
     "execution_count": 2,
     "metadata": {},
     "output_type": "execute_result"
    }
   ],
   "source": [
    "all_reviews = pd.read_pickle('./Data/all_reviews_clean.pkl')\n",
    "all_reviews.head()"
   ]
  },
  {
   "cell_type": "markdown",
   "metadata": {},
   "source": [
    "# TEXTBLOB"
   ]
  },
  {
   "cell_type": "code",
   "execution_count": 3,
   "metadata": {},
   "outputs": [],
   "source": [
    "pol = lambda x: TextBlob(x).sentiment.polarity\n",
    "# sub = lambda x: TextBlob(x).sentiment.subjectivity\n",
    "\n",
    "all_reviews['TextBlob_Polarity'] = all_reviews['review'].apply(pol)\n",
    "# all_reviews['TextBlob_Subjectivity'] = all_reviews['review'].apply(sub)"
   ]
  },
  {
   "cell_type": "code",
   "execution_count": 6,
   "metadata": {},
   "outputs": [
    {
     "data": {
      "image/png": "[encoded data removed]",
      "text/plain": [
       "<Figure size 864x576 with 1 Axes>"
      ]
     },
     "metadata": {
      "needs_background": "light"
     },
     "output_type": "display_data"
    }
   ],
   "source": [
    "plt.figure(figsize=(12,8))\n",
    "sns.distplot(all_reviews['TextBlob_Polarity'], kde=False)\n",
    "plt.title('TextBlob Polarity Distribution of Reviews')\n",
    "plt.show()"
   ]
  },
  {
   "cell_type": "markdown",
   "metadata": {},
   "source": [
    "# VADER"
   ]
  },
  {
   "cell_type": "code",
   "execution_count": 7,
   "metadata": {},
   "outputs": [],
   "source": [
    "from vaderSentiment.vaderSentiment import SentimentIntensityAnalyzer\n",
    "\n",
    "analyser = SentimentIntensityAnalyzer()"
   ]
  },
  {
   "cell_type": "code",
   "execution_count": 8,
   "metadata": {},
   "outputs": [],
   "source": [
    "def sentiment_analyzer_scores(sentence):\n",
    "    score = analyser.polarity_scores(sentence)['compound']\n",
    "    print(\"{}\\n{}\".format(sentence, str(score)))"
   ]
  },
  {
   "cell_type": "code",
   "execution_count": 9,
   "metadata": {},
   "outputs": [],
   "source": [
    "vader_score = lambda x: analyser.polarity_scores(x)['compound']\n",
    "\n",
    "all_reviews['vader_score'] = all_reviews['review'].apply(vader_score)"
   ]
  },
  {
   "cell_type": "code",
   "execution_count": 10,
   "metadata": {},
   "outputs": [
    {
     "data": {
      "text/html": [
       "<div>\n",
       "<style scoped>\n",
       "    .dataframe tbody tr th:only-of-type {\n",
       "        vertical-align: middle;\n",
       "    }\n",
       "\n",
       "    .dataframe tbody tr th {\n",
       "        vertical-align: top;\n",
       "    }\n",
       "\n",
       "    .dataframe thead th {\n",
       "        text-align: right;\n",
       "    }\n",
       "</style>\n",
       "<table border=\"1\" class=\"dataframe\">\n",
       "  <thead>\n",
       "    <tr style=\"text-align: right;\">\n",
       "      <th></th>\n",
       "      <th>date_of_stay</th>\n",
       "      <th>hotel_response</th>\n",
       "      <th>month_of_stay</th>\n",
       "      <th>nationality</th>\n",
       "      <th>review</th>\n",
       "      <th>source</th>\n",
       "      <th>trip_type</th>\n",
       "      <th>year_of_stay</th>\n",
       "      <th>review_clean</th>\n",
       "      <th>TextBlob_Polarity</th>\n",
       "      <th>vader_score</th>\n",
       "    </tr>\n",
       "  </thead>\n",
       "  <tbody>\n",
       "    <tr>\n",
       "      <th>0</th>\n",
       "      <td>2010-01</td>\n",
       "      <td>NaN</td>\n",
       "      <td>January</td>\n",
       "      <td>Malaysia</td>\n",
       "      <td>Brunei” overall  am satisfied as the hotel is ...</td>\n",
       "      <td>Agoda</td>\n",
       "      <td>Couple</td>\n",
       "      <td>2010</td>\n",
       "      <td>brunei overall be satisfy a the hotel be very ...</td>\n",
       "      <td>0.275694</td>\n",
       "      <td>0.9708</td>\n",
       "    </tr>\n",
       "    <tr>\n",
       "      <th>1</th>\n",
       "      <td>2010-01</td>\n",
       "      <td>NaN</td>\n",
       "      <td>January</td>\n",
       "      <td>Indonesia</td>\n",
       "      <td>great week-end at Mandarin Meritus” It's been ...</td>\n",
       "      <td>Agoda</td>\n",
       "      <td>Group</td>\n",
       "      <td>2010</td>\n",
       "      <td>great week end at mandarin meritus it s be alm...</td>\n",
       "      <td>0.256061</td>\n",
       "      <td>0.9030</td>\n",
       "    </tr>\n",
       "    <tr>\n",
       "      <th>2</th>\n",
       "      <td>2010-01</td>\n",
       "      <td>NaN</td>\n",
       "      <td>January</td>\n",
       "      <td>Malaysia</td>\n",
       "      <td>Favourite Hotel !” Mandarin Meritus has always...</td>\n",
       "      <td>Agoda</td>\n",
       "      <td>Business traveler</td>\n",
       "      <td>2010</td>\n",
       "      <td>favourite hotel mandarin meritus have always b...</td>\n",
       "      <td>0.466077</td>\n",
       "      <td>0.9642</td>\n",
       "    </tr>\n",
       "  </tbody>\n",
       "</table>\n",
       "</div>"
      ],
      "text/plain": [
       "  date_of_stay  hotel_response month_of_stay nationality  \\\n",
       "0      2010-01             NaN       January    Malaysia   \n",
       "1      2010-01             NaN       January   Indonesia   \n",
       "2      2010-01             NaN       January    Malaysia   \n",
       "\n",
       "                                              review source  \\\n",
       "0  Brunei” overall  am satisfied as the hotel is ...  Agoda   \n",
       "1  great week-end at Mandarin Meritus” It's been ...  Agoda   \n",
       "2  Favourite Hotel !” Mandarin Meritus has always...  Agoda   \n",
       "\n",
       "           trip_type  year_of_stay  \\\n",
       "0             Couple          2010   \n",
       "1              Group          2010   \n",
       "2  Business traveler          2010   \n",
       "\n",
       "                                        review_clean  TextBlob_Polarity  \\\n",
       "0  brunei overall be satisfy a the hotel be very ...           0.275694   \n",
       "1  great week end at mandarin meritus it s be alm...           0.256061   \n",
       "2  favourite hotel mandarin meritus have always b...           0.466077   \n",
       "\n",
       "   vader_score  \n",
       "0       0.9708  \n",
       "1       0.9030  \n",
       "2       0.9642  "
      ]
     },
     "execution_count": 10,
     "metadata": {},
     "output_type": "execute_result"
    }
   ],
   "source": [
    "all_reviews.head(3)"
   ]
  },
  {
   "cell_type": "code",
   "execution_count": 11,
   "metadata": {},
   "outputs": [],
   "source": [
    "all_reviews.to_pickle('./Data/all_reviews_clean_sentiment.pkl')"
   ]
  }
 ],
 "metadata": {
  "kernelspec": {
   "display_name": "Python 3",
   "language": "python",
   "name": "python3"
  },
  "language_info": {
   "codemirror_mode": {
    "name": "ipython",
    "version": 3
   },
   "file_extension": ".py",
   "mimetype": "text/x-python",
   "name": "python",
   "nbconvert_exporter": "python",
   "pygments_lexer": "ipython3",
   "version": "3.6.8"
  }
 },
 "nbformat": 4,
 "nbformat_minor": 2
}
